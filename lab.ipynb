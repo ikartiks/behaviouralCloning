{
 "cells": [
  {
   "cell_type": "markdown",
   "metadata": {},
   "source": [
    "<h1 align=\"center\">TensorFlow Neural Network Lab</h1>"
   ]
  },
  {
   "cell_type": "markdown",
   "metadata": {},
   "source": [
    "To start this lab, you first need to import all the necessary modules. Run the code below. If it runs successfully, it will print \"`All modules imported`\"."
   ]
  },
  {
   "cell_type": "code",
   "execution_count": 2,
   "metadata": {
    "collapsed": false
   },
   "outputs": [
    {
     "name": "stdout",
     "output_type": "stream",
     "text": [
      "Done\n"
     ]
    }
   ],
   "source": [
    "import csv,cv2,numpy\n",
    "import os\n",
    "from sklearn.model_selection import train_test_split\n",
    "import sklearn\n",
    "from random import shuffle\n",
    "\n",
    "import matplotlib.pyplot as plt\n",
    "\n",
    "#a=numpy.array([[1,2,3], [7, 8, 9], [7, 8, 9], [7, 8, 9]])\n",
    "#b=numpy.array([[4, 5, 6], [7, 8, 9]])\n",
    "#x=numpy.append(a,b , axis=0)\n",
    "#print(x, a.shape,' ',b.shape)\n",
    "\n",
    "#a=[1,2,4,5,6,7,8,9,10,0]\n",
    "#offset=3\n",
    "#batch_size=3\n",
    "#batch_samples = a[offset:offset+batch_size]\n",
    "\n",
    "\n",
    "print('Done')"
   ]
  },
  {
   "cell_type": "code",
   "execution_count": 3,
   "metadata": {
    "collapsed": false
   },
   "outputs": [
    {
     "name": "stdout",
     "output_type": "stream",
     "text": [
      "Saving complete\n"
     ]
    }
   ],
   "source": [
    "#save numpy arrays cell kept for our reference\n",
    "numpy.save('stdImages.npy',stdImages)\n",
    "numpy.save('stdMeasurements.npy',stdMeasurements)\n",
    "print('Saving complete')"
   ]
  },
  {
   "cell_type": "code",
   "execution_count": null,
   "metadata": {
    "collapsed": true
   },
   "outputs": [],
   "source": [
    "#reload the images cell kept for our reference\n",
    "stdImages=numpy.load('stdImages.npy')\n",
    "stdMeasurements=numpy.load('stdMeasurements')\n",
    "print('loading data complete')"
   ]
  },
  {
   "cell_type": "code",
   "execution_count": 3,
   "metadata": {
    "collapsed": false
   },
   "outputs": [
    {
     "name": "stdout",
     "output_type": "stream",
     "text": [
      "generators generated\n"
     ]
    }
   ],
   "source": [
    "#Writing same code using generators since this takes a lot of memory\n",
    "\n",
    "#lines=[]\n",
    "#images=[] #input\n",
    "#measurements=[] #y\n",
    "\n",
    "\n",
    "#for local path\n",
    "#localPathBase='/Users/kartikshah/Documents/selfDrivingCarProjects/CarND-Behavioral-Cloning-P3/data/IMG/'\n",
    "\n",
    "#for relative path (should work on ec2 instance too)\n",
    "localPathBase='data/IMG/'\n",
    "\n",
    "correction=0.1\n",
    "\n",
    "samples = []\n",
    "with open('data/driving_log.csv', 'r') as csvfile:\n",
    "    reader = csv.reader(csvfile)\n",
    "    for row in reader:\n",
    "        if(row[3]=='steering'):\n",
    "            continue\n",
    "        samples.append(row)\n",
    "        \n",
    "def augment_brightness_camera_images(image):\n",
    "    image1 = cv2.cvtColor(image,cv2.COLOR_RGB2HSV)\n",
    "    image1 = numpy.array(image1, dtype = numpy.float64)\n",
    "    random_bright = .5+numpy.random.uniform()\n",
    "    image1[:,:,2] = image1[:,:,2]*random_bright\n",
    "    image1[:,:,2][image1[:,:,2]>255]  = 255\n",
    "    image1 = numpy.array(image1, dtype = numpy.uint8)\n",
    "    image1 = cv2.cvtColor(image1,cv2.COLOR_HSV2RGB)\n",
    "    return image1\n",
    "\n",
    "def add_random_shadow(image):\n",
    "    top_y = 320*numpy.random.uniform()\n",
    "    top_x = 0\n",
    "    bot_x = 160\n",
    "    bot_y = 320*numpy.random.uniform()\n",
    "    image_hls = cv2.cvtColor(image,cv2.COLOR_RGB2HLS)\n",
    "    shadow_mask = 0*image_hls[:,:,1]\n",
    "    X_m = numpy.mgrid[0:image.shape[0],0:image.shape[1]][0]\n",
    "    Y_m = numpy.mgrid[0:image.shape[0],0:image.shape[1]][1]\n",
    "    shadow_mask[((X_m-top_x)*(bot_y-top_y) -(bot_x - top_x)*(Y_m-top_y) >=0)]=1\n",
    "    #random_bright = .25+.7*numpy.random.uniform()\n",
    "    if numpy.random.randint(2)==1:\n",
    "        random_bright = .5\n",
    "        cond1 = shadow_mask==1\n",
    "        cond0 = shadow_mask==0\n",
    "        if numpy.random.randint(2)==1:\n",
    "            image_hls[:,:,1][cond1] = image_hls[:,:,1][cond1]*random_bright\n",
    "        else:\n",
    "            image_hls[:,:,1][cond0] = image_hls[:,:,1][cond0]*random_bright    \n",
    "    image = cv2.cvtColor(image_hls,cv2.COLOR_HLS2RGB)\n",
    "    return image\n",
    "\n",
    "train_samples, validation_samples = train_test_split(samples, test_size=0.2)\n",
    "\n",
    "def generator(samples, batch_size=32):\n",
    "    num_samples = len(samples)\n",
    "    while 1: # Loop forever so the generator never terminates\n",
    "        shuffle(samples)\n",
    "        for offset in range(0, num_samples, batch_size):#range(start, stop, step)\n",
    "            #return data from offset to offset+batchs_size 0-32,32-64...\n",
    "            batch_samples = samples[offset:offset+batch_size]\n",
    "\n",
    "            images = []\n",
    "            angles = []\n",
    "            for batch_sample in batch_samples:\n",
    "                \n",
    "                #getting the angles\n",
    "                center_angle = float(batch_sample[3])\n",
    "                left_angle  = center_angle + correction\n",
    "                right_angle = center_angle - correction\n",
    "                \n",
    "                #take 3 images\n",
    "                center_image = cv2.imread(localPathBase+batch_sample[0].split('/')[-1])\n",
    "                #center_image = cv2.imread(batch_sample[0])\n",
    "                images.append(center_image)\n",
    "                angles.append(center_angle)\n",
    "                \n",
    "                \n",
    "                \n",
    "                right_image = cv2.imread(localPathBase+batch_sample[2].split('/')[-1])\n",
    "                #right_image = cv2.imread(batch_sample[2])\n",
    "                images.append(right_image)\n",
    "                angles.append(right_angle)\n",
    "                \n",
    "                left_image = cv2.imread(localPathBase+batch_sample[1].split('/')[-1])\n",
    "                #left_image = cv2.imread(batch_sample[1])\n",
    "                images.append(left_image)\n",
    "                angles.append(left_angle)\n",
    "                \n",
    "                \n",
    "                #add flipped images\n",
    "                \n",
    "                image_flipped = numpy.fliplr(left_image)\n",
    "                measurement_flipped = -left_angle\n",
    "                images.append(image_flipped)\n",
    "                angles.append(measurement_flipped)\n",
    "                \n",
    "                image_flipped = numpy.fliplr(center_image)\n",
    "                measurement_flipped = -center_angle\n",
    "                images.append(image_flipped)\n",
    "                angles.append(measurement_flipped)\n",
    "                \n",
    "                image_flipped = numpy.fliplr(right_image)\n",
    "                measurement_flipped = -right_angle\n",
    "                images.append(image_flipped)\n",
    "                angles.append(measurement_flipped)\n",
    "               \n",
    "                \n",
    "                \n",
    "                \n",
    "                #add brightned images\n",
    "                \n",
    "                bright_image = augment_brightness_camera_images(center_image)\n",
    "                images.append(bright_image)\n",
    "                angles.append(center_angle)\n",
    "                \n",
    "                bright_image = augment_brightness_camera_images(left_image)\n",
    "                images.append(bright_image)\n",
    "                angles.append(left_angle)\n",
    "                \n",
    "                bright_image = augment_brightness_camera_images(right_image)\n",
    "                images.append(bright_image)\n",
    "                angles.append(right_angle)\n",
    "                \n",
    "                #add random shadow to 3 images\n",
    "                images.append(add_random_shadow(center_image))\n",
    "                angles.append(center_angle)\n",
    "                \n",
    "                images.append(add_random_shadow(right_image))\n",
    "                angles.append(center_angle)\n",
    "                \n",
    "                images.append(add_random_shadow(left_image))\n",
    "                angles.append(center_angle)\n",
    "                \n",
    "                \n",
    "                \n",
    "                \n",
    "\n",
    "            # trim image to only see section with road\n",
    "            X_train = numpy.array(images)\n",
    "            y_train = numpy.array(angles)\n",
    "            #print(type(X_train[0]),X_train[0].shape)\n",
    "            yield sklearn.utils.shuffle(X_train, y_train)\n",
    "            \n",
    "# compile and train the model using the generator function\n",
    "train_generator = generator(train_samples, batch_size=32)\n",
    "validation_generator = generator(validation_samples, batch_size=32)\n",
    "\n",
    "print('generators generated')"
   ]
  },
  {
   "cell_type": "code",
   "execution_count": 8,
   "metadata": {
    "collapsed": false
   },
   "outputs": [
    {
     "name": "stdout",
     "output_type": "stream",
     "text": [
      "16072   (16072, 160, 320, 3) (160, 320, 3)\n"
     ]
    }
   ],
   "source": [
    "'''\n",
    "x_train=numpy.append(stdImages,augmentedImagesX,axis=0)\n",
    "y_train=numpy.append(stdMeasurements,augmentedMeasurementsX,axis=0)\n",
    "\n",
    "print(len(x_train),' ',x_train.shape,x_train[0].shape)\n",
    "\n",
    "'''\n"
   ]
  },
  {
   "cell_type": "code",
   "execution_count": 10,
   "metadata": {
    "collapsed": false
   },
   "outputs": [
    {
     "name": "stdout",
     "output_type": "stream",
     "text": [
      "(16072,) -0.0\n"
     ]
    }
   ],
   "source": [
    "print(y_train.shape,y_train[0])\n"
   ]
  },
  {
   "cell_type": "code",
   "execution_count": 4,
   "metadata": {
    "collapsed": false
   },
   "outputs": [
    {
     "name": "stdout",
     "output_type": "stream",
     "text": [
      "set train and labeles\n"
     ]
    }
   ],
   "source": [
    "'''\n",
    "x_train=stdImages\n",
    "y_train=stdMeasurements\n",
    "print('set train and labeles')\n",
    "\n",
    "'''\n"
   ]
  },
  {
   "cell_type": "markdown",
   "metadata": {},
   "source": [
    "The notMNIST dataset is too large for many computers to handle.  It contains 500,000 images for just training.  You'll be using a subset of this data, 15,000 images for each label (A-J)."
   ]
  },
  {
   "cell_type": "code",
   "execution_count": 4,
   "metadata": {
    "collapsed": false
   },
   "outputs": [
    {
     "name": "stderr",
     "output_type": "stream",
     "text": [
      "Using TensorFlow backend.\n"
     ]
    },
    {
     "name": "stdout",
     "output_type": "stream",
     "text": [
      "Started\n",
      "Epoch 1/3\n"
     ]
    },
    {
     "ename": "KeyboardInterrupt",
     "evalue": "",
     "output_type": "error",
     "traceback": [
      "\u001b[0;31m---------------------------------------------------------------------------\u001b[0m",
      "\u001b[0;31mKeyboardInterrupt\u001b[0m                         Traceback (most recent call last)",
      "\u001b[0;32m<ipython-input-4-b070a568db66>\u001b[0m in \u001b[0;36m<module>\u001b[0;34m()\u001b[0m\n\u001b[1;32m     22\u001b[0m \u001b[0;31m#model.fit(x_train, y_train, nb_epoch=3, validation_split=0.2,shuffle=True,verbose=1)\u001b[0m\u001b[0;34m\u001b[0m\u001b[0;34m\u001b[0m\u001b[0m\n\u001b[1;32m     23\u001b[0m \u001b[0;31m#multiply samples per epoch for both by 3 since for every sample we are takimg center,left,right images\u001b[0m\u001b[0;34m\u001b[0m\u001b[0;34m\u001b[0m\u001b[0m\n\u001b[0;32m---> 24\u001b[0;31m \u001b[0mmodel\u001b[0m\u001b[0;34m.\u001b[0m\u001b[0mfit_generator\u001b[0m\u001b[0;34m(\u001b[0m\u001b[0mtrain_generator\u001b[0m\u001b[0;34m,\u001b[0m \u001b[0msamples_per_epoch\u001b[0m\u001b[0;34m=\u001b[0m \u001b[0mlen\u001b[0m\u001b[0;34m(\u001b[0m\u001b[0mtrain_samples\u001b[0m\u001b[0;34m)\u001b[0m\u001b[0;34m*\u001b[0m\u001b[0;36m12\u001b[0m\u001b[0;34m,\u001b[0m                    \u001b[0mvalidation_data\u001b[0m\u001b[0;34m=\u001b[0m\u001b[0mvalidation_generator\u001b[0m\u001b[0;34m,\u001b[0m \u001b[0mnb_val_samples\u001b[0m\u001b[0;34m=\u001b[0m\u001b[0mlen\u001b[0m\u001b[0;34m(\u001b[0m\u001b[0mvalidation_samples\u001b[0m\u001b[0;34m)\u001b[0m\u001b[0;34m*\u001b[0m\u001b[0;36m12\u001b[0m\u001b[0;34m,\u001b[0m                    \u001b[0mnb_epoch\u001b[0m\u001b[0;34m=\u001b[0m\u001b[0;36m3\u001b[0m\u001b[0;34m,\u001b[0m\u001b[0mverbose\u001b[0m\u001b[0;34m=\u001b[0m\u001b[0;36m1\u001b[0m\u001b[0;34m)\u001b[0m\u001b[0;34m\u001b[0m\u001b[0m\n\u001b[0m\u001b[1;32m     25\u001b[0m \u001b[0;34m\u001b[0m\u001b[0m\n\u001b[1;32m     26\u001b[0m \u001b[0mmodel\u001b[0m\u001b[0;34m.\u001b[0m\u001b[0msave\u001b[0m\u001b[0;34m(\u001b[0m\u001b[0;34m'model-10.h5'\u001b[0m\u001b[0;34m)\u001b[0m\u001b[0;34m\u001b[0m\u001b[0m\n",
      "\u001b[0;32m/Users/kartikshah/miniconda3/envs/carnd-term1/lib/python3.5/site-packages/keras/models.py\u001b[0m in \u001b[0;36mfit_generator\u001b[0;34m(self, generator, samples_per_epoch, nb_epoch, verbose, callbacks, validation_data, nb_val_samples, class_weight, max_q_size, nb_worker, pickle_safe, initial_epoch, **kwargs)\u001b[0m\n\u001b[1;32m    933\u001b[0m                                         \u001b[0mnb_worker\u001b[0m\u001b[0;34m=\u001b[0m\u001b[0mnb_worker\u001b[0m\u001b[0;34m,\u001b[0m\u001b[0;34m\u001b[0m\u001b[0m\n\u001b[1;32m    934\u001b[0m                                         \u001b[0mpickle_safe\u001b[0m\u001b[0;34m=\u001b[0m\u001b[0mpickle_safe\u001b[0m\u001b[0;34m,\u001b[0m\u001b[0;34m\u001b[0m\u001b[0m\n\u001b[0;32m--> 935\u001b[0;31m                                         initial_epoch=initial_epoch)\n\u001b[0m\u001b[1;32m    936\u001b[0m \u001b[0;34m\u001b[0m\u001b[0m\n\u001b[1;32m    937\u001b[0m     def evaluate_generator(self, generator, val_samples,\n",
      "\u001b[0;32m/Users/kartikshah/miniconda3/envs/carnd-term1/lib/python3.5/site-packages/keras/engine/training.py\u001b[0m in \u001b[0;36mfit_generator\u001b[0;34m(self, generator, samples_per_epoch, nb_epoch, verbose, callbacks, validation_data, nb_val_samples, class_weight, max_q_size, nb_worker, pickle_safe, initial_epoch)\u001b[0m\n\u001b[1;32m   1520\u001b[0m                             \u001b[0;32mbreak\u001b[0m\u001b[0;34m\u001b[0m\u001b[0m\n\u001b[1;32m   1521\u001b[0m                         \u001b[0;32melse\u001b[0m\u001b[0;34m:\u001b[0m\u001b[0;34m\u001b[0m\u001b[0m\n\u001b[0;32m-> 1522\u001b[0;31m                             \u001b[0mtime\u001b[0m\u001b[0;34m.\u001b[0m\u001b[0msleep\u001b[0m\u001b[0;34m(\u001b[0m\u001b[0mwait_time\u001b[0m\u001b[0;34m)\u001b[0m\u001b[0;34m\u001b[0m\u001b[0m\n\u001b[0m\u001b[1;32m   1523\u001b[0m \u001b[0;34m\u001b[0m\u001b[0m\n\u001b[1;32m   1524\u001b[0m                     \u001b[0;32mif\u001b[0m \u001b[0;32mnot\u001b[0m \u001b[0mhasattr\u001b[0m\u001b[0;34m(\u001b[0m\u001b[0mgenerator_output\u001b[0m\u001b[0;34m,\u001b[0m \u001b[0;34m'__len__'\u001b[0m\u001b[0;34m)\u001b[0m\u001b[0;34m:\u001b[0m\u001b[0;34m\u001b[0m\u001b[0m\n",
      "\u001b[0;31mKeyboardInterrupt\u001b[0m: "
     ]
    }
   ],
   "source": [
    "#print (x_train[0].shape,'  ',x_train[1].shape)\n",
    "from keras.models import Sequential\n",
    "from keras.layers import Dense, Flatten,Lambda,Cropping2D\n",
    "from keras.layers.convolutional import Convolution2D\n",
    "from keras.layers.pooling import MaxPooling2D\n",
    "print('Started')\n",
    "model = Sequential()\n",
    "model.add(Lambda(lambda x: (x / 255.0) - 0.5, input_shape=(160,320,3)))\n",
    "model.add(Cropping2D(cropping=((50,20),(0,0))))\n",
    "model.add(Convolution2D(24,5,5,subsample=(2,2),activation='relu'))\n",
    "model.add(Convolution2D(36,5,5,subsample=(2,2),activation='relu'))\n",
    "model.add(Convolution2D(48,5,5,subsample=(2,2),activation='relu'))\n",
    "model.add(Convolution2D(64,3,3,activation='relu'))\n",
    "model.add(Convolution2D(64,3,3,activation='relu'))\n",
    "model.add(Flatten())\n",
    "model.add(Dense(100))\n",
    "model.add(Dense(50))\n",
    "model.add(Dense(10))\n",
    "model.add(Dense(1))\n",
    "\n",
    "model.compile(loss='mse',optimizer='adam')\n",
    "#model.fit(x_train, y_train, nb_epoch=3, validation_split=0.2,shuffle=True,verbose=1)\n",
    "#multiply samples per epoch for both by 3 since for every sample we are takimg center,left,right images\n",
    "model.fit_generator(train_generator, samples_per_epoch= len(train_samples)*12,\\\n",
    "                    validation_data=validation_generator, nb_val_samples=len(validation_samples)*12,\\\n",
    "                    nb_epoch=3,verbose=1)\n",
    "\n",
    "model.save('model-10.h5')\n",
    "\n",
    "\n",
    "print('model saved')"
   ]
  },
  {
   "cell_type": "code",
   "execution_count": null,
   "metadata": {
    "collapsed": true
   },
   "outputs": [],
   "source": []
  }
 ],
 "metadata": {
  "anaconda-cloud": {},
  "kernelspec": {
   "display_name": "Python 3",
   "language": "python",
   "name": "python3"
  },
  "language_info": {
   "codemirror_mode": {
    "name": "ipython",
    "version": 3
   },
   "file_extension": ".py",
   "mimetype": "text/x-python",
   "name": "python",
   "nbconvert_exporter": "python",
   "pygments_lexer": "ipython3",
   "version": "3.5.2"
  },
  "widgets": {
   "state": {},
   "version": "1.1.2"
  }
 },
 "nbformat": 4,
 "nbformat_minor": 0
}
